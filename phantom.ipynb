{
 "cells": [
  {
   "cell_type": "code",
   "execution_count": null,
   "metadata": {},
   "outputs": [],
   "source": [
    "import numpy as np\n",
    "import torch \n",
    "from matplotlib import pyplot as plt\n",
    "from utils import radonTransform,initial\n",
    "from skimage.transform import rescale\n",
    "from skimage.data import shepp_logan_phantom\n",
    "from MCMC.BPS_Gibbs_sparse import BPS_Gibbs\n",
    "from MCMC.GS_Horseshoe import Gibbs_sampling\n",
    "from MCMC.PLD_sparse import proximal_langevin\n",
    "from MCMC.PCN_KL_sparse import PCN\n"
   ]
  },
  {
   "cell_type": "code",
   "execution_count": null,
   "metadata": {},
   "outputs": [],
   "source": [
    "pixel=64\n",
    "np.random.seed(5041294)\n",
    "height, width = 64,64\n",
    "angleNum = 32\n",
    "A = radonTransform(angleNum, pixel, pixel)\n",
    "image = shepp_logan_phantom()\n",
    "x_true = rescale(image, scale=height / 400, mode='reflect')\n",
    "\n",
    "x = x_true.reshape(-1, 1)\n",
    "y_noise_free = A @ x\n",
    "sigma = 0.01 * np.max(y_noise_free)\n",
    "y = (y_noise_free + sigma * np.random.randn(*y_noise_free.shape))\n",
    "n = height * width\n",
    "m = y.shape[0]\n"
   ]
  },
  {
   "cell_type": "code",
   "execution_count": null,
   "metadata": {},
   "outputs": [],
   "source": [
    "plt.figure()\n",
    "plt.imshow(x.reshape(height, width))\n",
    "plt.colorbar(plt.imshow(x.reshape(height, width)))\n",
    "plt.show()"
   ]
  },
  {
   "cell_type": "code",
   "execution_count": null,
   "metadata": {},
   "outputs": [],
   "source": [
    "device1 = torch.device(\"cuda:0\" if torch.cuda.is_available() else \"cpu\")"
   ]
  },
  {
   "cell_type": "code",
   "execution_count": null,
   "metadata": {},
   "outputs": [],
   "source": [
    "x_init=initial(A,y,device1)"
   ]
  },
  {
   "cell_type": "code",
   "execution_count": null,
   "metadata": {},
   "outputs": [],
   "source": [
    "#hyper=[1,50,1,50,1,50]\n",
    "#hyper = [1,0.1,1,0.1,1,0.1]\n",
    "hyper = [10,10]\n"
   ]
  },
  {
   "cell_type": "code",
   "execution_count": null,
   "metadata": {},
   "outputs": [],
   "source": [
    "#x_mean,x_std = BPS_Gibbs(x_init,torch.from_numpy(y).to(device1),torch.from_numpy(A.copy()).to(device1),sigma,hyper)\n",
    "#x_mean,x_std = Gibbs_sampling(x_init,torch.from_numpy(y).to(device1),torch.from_numpy(A.copy()).to(device1),sigma,hyper)\n",
    "x_mean,x_std = proximal_langevin(x_init,torch.from_numpy(y).to(device1),torch.from_numpy(A.copy()).to(device1),sigma,hyper)\n",
    "#x_mean,x_std = PCN(x_init,torch.from_numpy(y).to(device1),torch.from_numpy(A.copy()).to(device1),sigma,hyper)"
   ]
  },
  {
   "cell_type": "code",
   "execution_count": null,
   "metadata": {},
   "outputs": [],
   "source": [
    "pixel = 64\n",
    "plt.figure()\n",
    "plt.imshow((x_mean.view(pixel,pixel)).cpu().numpy())\n",
    "plt.colorbar(plt.imshow((x_mean.view(pixel,pixel)).cpu().numpy()))\n",
    "plt.show()"
   ]
  },
  {
   "cell_type": "code",
   "execution_count": null,
   "metadata": {},
   "outputs": [],
   "source": []
  }
 ],
 "metadata": {
  "kernelspec": {
   "display_name": "base",
   "language": "python",
   "name": "python3"
  },
  "language_info": {
   "codemirror_mode": {
    "name": "ipython",
    "version": 3
   },
   "file_extension": ".py",
   "mimetype": "text/x-python",
   "name": "python",
   "nbconvert_exporter": "python",
   "pygments_lexer": "ipython3",
   "version": "3.10.8"
  }
 },
 "nbformat": 4,
 "nbformat_minor": 2
}
